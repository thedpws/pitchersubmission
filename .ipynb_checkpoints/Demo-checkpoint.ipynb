{
 "cells": [
  {
   "cell_type": "code",
   "execution_count": null,
   "metadata": {},
   "outputs": [],
   "source": [
    "from pitchr import *"
   ]
  },
  {
   "cell_type": "markdown",
   "metadata": {},
   "source": [
    "## Trying out some music in G Major"
   ]
  },
  {
   "cell_type": "code",
   "execution_count": null,
   "metadata": {},
   "outputs": [],
   "source": [
    "key(Key.G_MAJOR)\n",
    "m = Measure([ Note('G', 1.0), Rest(1.0), Note('A', 1.0), Note('B', 1.0)])\n",
    "m.show()\n",
    "m.play()"
   ]
  },
  {
   "cell_type": "markdown",
   "metadata": {},
   "source": [
    "## Hearing it on a higher register"
   ]
  },
  {
   "cell_type": "code",
   "execution_count": null,
   "metadata": {},
   "outputs": [],
   "source": [
    "for n in m:\n",
    "    if not isinstance(n, Rest):\n",
    "        n.octave_up()\n",
    "        \n",
    "m.show()\n",
    "m.play()\n"
   ]
  },
  {
   "cell_type": "markdown",
   "metadata": {},
   "source": [
    "## Putting music together"
   ]
  },
  {
   "cell_type": "code",
   "execution_count": null,
   "metadata": {},
   "outputs": [],
   "source": [
    "\n",
    "p = Part(time_signature=Time('3/4'), key_signature=Key.C_MAJOR)\n",
    "\n",
    "p.add_staff(\n",
    "    Staff([\n",
    "        Measure([ Note('C', 1.0), Rest(1.0), Note('D', 1.0)]),\n",
    "        Measure([ Note('E', 1.0), Rest(1.0), Note('E', 1.0)]),\n",
    "        Measure([ Note('F', 1.0), Note('E', 1.0), Note('D', 1.0)]),\n",
    "        m := Measure([ Note('C', 1.0), Rest(1.0), Note('B3', 1.0)]),\n",
    "        Measure([ Note('C', 1.0)])\n",
    "    ])\n",
    ")\n",
    "p.show()\n",
    "p.play()"
   ]
  },
  {
   "cell_type": "markdown",
   "metadata": {},
   "source": [
    "## Making edits"
   ]
  },
  {
   "cell_type": "code",
   "execution_count": null,
   "metadata": {},
   "outputs": [],
   "source": [
    "# Change the note at beat 2 from Bb to G\n",
    "m[2.0] = Note('G', 1.0)\n",
    "p.show()\n",
    "p.play()"
   ]
  },
  {
   "cell_type": "markdown",
   "metadata": {},
   "source": [
    "## Creating harmony"
   ]
  },
  {
   "cell_type": "code",
   "execution_count": null,
   "metadata": {},
   "outputs": [],
   "source": [
    "time(Time('3/4'))\n",
    "key(Key.C_MAJOR)\n",
    "s = Staff([\n",
    "        Measure([ Note('G', 1.0), Rest(1.0), Note('G', 1.0)]),\n",
    "        Measure([ Note('G', 1.0), Rest(1.0), Note('F', 1.0)]),\n",
    "        Measure([ Note('E', 1.0), Note('F', 1.0), Note('F', 1.0)]),\n",
    "        Measure([ Note('E', 1.0), Rest(1.0), Note('B3', 1.0)]),\n",
    "        Measure([ Note('C', 1.0)])\n",
    "])\n",
    "s.show()\n",
    "s.play()"
   ]
  },
  {
   "cell_type": "code",
   "execution_count": null,
   "metadata": {},
   "outputs": [],
   "source": [
    "chords = Staff([\n",
    "    Measure([ Chord.major_triad(Note('C3', 1.0)), Rest(2.0)]),\n",
    "    Measure([ Chord.major_triad(Note('G3', 1.0)), Rest(2.0) ]),\n",
    "    Measure([ Chord.minor_triad(Note('A3', 1.0)), Rest(2.0) ]),\n",
    "    Measure([ Chord.major_triad(Note('F3', 1.0)), Rest(2.0) ]),\n",
    "    Measure([ Chord.major_triad(Note('C3', 1.0))])\n",
    "],clef=Clef.BASS)\n",
    "chords.show()\n",
    "chords.play()"
   ]
  },
  {
   "cell_type": "markdown",
   "metadata": {},
   "source": [
    "## Putting it together"
   ]
  },
  {
   "cell_type": "code",
   "execution_count": null,
   "metadata": {},
   "outputs": [],
   "source": [
    "p.add_staff(s)\n",
    "p.add_staff(chords)\n",
    "p.show()\n",
    "p.play()"
   ]
  },
  {
   "cell_type": "code",
   "execution_count": null,
   "metadata": {},
   "outputs": [],
   "source": [
    "\n",
    "s = Score(parts=[p], title='Greater Gator', author='AZ Vasquez', author_email='azvasquez99@gmail.com')\n",
    "\n",
    "s.show()\n",
    "\n"
   ]
  }
 ],
 "metadata": {
  "kernelspec": {
   "display_name": "Python 3",
   "language": "python",
   "name": "python3"
  },
  "language_info": {
   "codemirror_mode": {
    "name": "ipython",
    "version": 3
   },
   "file_extension": ".py",
   "mimetype": "text/x-python",
   "name": "python",
   "nbconvert_exporter": "python",
   "pygments_lexer": "ipython3",
   "version": "3.8.2"
  }
 },
 "nbformat": 4,
 "nbformat_minor": 4
}
